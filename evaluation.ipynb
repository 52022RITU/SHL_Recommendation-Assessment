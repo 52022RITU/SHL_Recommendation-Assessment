{
 "cells": [
  {
   "cell_type": "code",
   "execution_count": null,
   "id": "d8df944a",
   "metadata": {},
   "outputs": [],
   "source": [
    "# EVALUATION NOTEBOOK\n",
    "import pandas as pd\n",
    "from src.models.recommender import SHLRecommender\n",
    "from src.evaluation.metrics import recall_at_k, mean_average_precision\n",
    "\n",
    "# Defining benchmark queries with known relevant assessments\n",
    "benchmarks = [\n",
    "    {\n",
    "        \"query\": \"Hiring for Java developers who can collaborate with business teams, need 40-min assessment\",\n",
    "        \"relevant\": [\"Java Programming Test\", \"Inductive Reasoning\", \"Situational Judgement Test\"]\n",
    "    },\n",
    "    # Adding more benchmark queries\n",
    "]\n",
    "\n",
    "recommender = SHLRecommender()\n",
    "results = []\n",
    "\n",
    "for benchmark in benchmarks:\n",
    "    recommendations = recommender.get_recommendations(benchmark[\"query\"])\n",
    "    rec_names = [r[\"description\"] for r in recommendations]\n",
    "    \n",
    "    recall = recall_at_k(benchmark[\"relevant\"], rec_names, k=3)\n",
    "    map_score = mean_average_precision(benchmark[\"relevant\"], rec_names, k=3)\n",
    "    \n",
    "    results.append({\n",
    "        \"query\": benchmark[\"query\"],\n",
    "        \"recall@3\": recall,\n",
    "        \"map@3\": map_score\n",
    "    })\n",
    "\n",
    "results_df = pd.DataFrame(results)\n",
    "print(f\"Mean Recall@3: {results_df['recall@3'].mean()}\")\n",
    "print(f\"Mean MAP@3: {results_df['map@3'].mean()}\")\n"
   ]
  }
 ],
 "metadata": {
  "kernelspec": {
   "display_name": "Python 3 (ipykernel)",
   "language": "python",
   "name": "python3"
  },
  "language_info": {
   "codemirror_mode": {
    "name": "ipython",
    "version": 3
   },
   "file_extension": ".py",
   "mimetype": "text/x-python",
   "name": "python",
   "nbconvert_exporter": "python",
   "pygments_lexer": "ipython3",
   "version": "3.10.0"
  }
 },
 "nbformat": 4,
 "nbformat_minor": 5
}
